{
 "cells": [
  {
   "cell_type": "markdown",
   "metadata": {
    "collapsed": false
   },
   "source": [
    "###INSTALLING CHROME AND SELIUM DRIVER AND ADDING IT TO PATH(/USR/BIN/)###\n",
    "\n",
    "sudo apt-get --yes --force-yes install chromium-browser xvfb unzip\n",
    "\n",
    "wget -N http://chromedriver.storage.googleapis.com/2.26/chromedriver_linux32.zip\n",
    "unzip chromedriver_linux32.zip\n",
    "chmod +x chromedriver\n",
    "\n",
    "sudo mv -f chromedriver /usr/local/share/chromedriver\n",
    "\n",
    "sudo ln -s /usr/local/share/chromedriver /usr/local/bin/chromedriver\n",
    "\n",
    "sudo ln -s /usr/local/share/chromedriver /usr/bin/chromedriver"
   ]
  },
  {
   "cell_type": "markdown",
   "metadata": {},
   "source": [
    "## Browser Opening and Driver_selection"
   ]
  },
  {
   "cell_type": "code",
   "execution_count": 388,
   "metadata": {
    "collapsed": true
   },
   "outputs": [],
   "source": [
    "#IMPORTING DEPENDENCIES\n",
    "#import time\n",
    "from selenium import webdriver\n",
    "from selenium.webdriver.support.ui import Select #for selecting option"
   ]
  },
  {
   "cell_type": "code",
   "execution_count": 389,
   "metadata": {
    "collapsed": true
   },
   "outputs": [],
   "source": [
    "driver = webdriver.Chrome()"
   ]
  },
  {
   "cell_type": "code",
   "execution_count": 390,
   "metadata": {
    "collapsed": false
   },
   "outputs": [],
   "source": [
    "driver.get('http://www.bputexam.in/StudentSection/ResultPublished/StudentResult.aspx')"
   ]
  },
  {
   "cell_type": "markdown",
   "metadata": {},
   "source": [
    "## Finding elements of -> dropdownbox, textbox"
   ]
  },
  {
   "cell_type": "code",
   "execution_count": 391,
   "metadata": {
    "collapsed": false
   },
   "outputs": [],
   "source": [
    "#Exam session option\n",
    "exam_option = Select(driver.find_element_by_name('ddlSession'))"
   ]
  },
  {
   "cell_type": "code",
   "execution_count": 392,
   "metadata": {
    "collapsed": false
   },
   "outputs": [],
   "source": [
    "#registration Number field\n",
    "registerationNo_text = driver.find_element_by_id('txtRegNo');"
   ]
  },
  {
   "cell_type": "code",
   "execution_count": 393,
   "metadata": {
    "collapsed": true
   },
   "outputs": [],
   "source": [
    "#date of Birth field\n",
    "birth_date_text = driver.find_element_by_id('dpStudentdob_dateInput');"
   ]
  },
  {
   "cell_type": "markdown",
   "metadata": {},
   "source": [
    "## Filling form"
   ]
  },
  {
   "cell_type": "code",
   "execution_count": 394,
   "metadata": {
    "collapsed": false
   },
   "outputs": [],
   "source": [
    "#Exam session value::\n",
    "exam_option.select_by_visible_text(\"Even(2016-17)\")\n",
    "     #OR\n",
    "#exam_option.select_by_value(\"17\")"
   ]
  },
  {
   "cell_type": "code",
   "execution_count": 395,
   "metadata": {
    "collapsed": false
   },
   "outputs": [],
   "source": [
    "#Registration no value::\n",
    "registerationNo_text.clear()\n",
    "registerationNo_text.send_keys(1501202190)"
   ]
  },
  {
   "cell_type": "code",
   "execution_count": 396,
   "metadata": {
    "collapsed": true
   },
   "outputs": [],
   "source": [
    "#date of Birth value:\n",
    "birth_date_text.clear()\n",
    "birth_date_text.send_keys(\"10/10/1995\")"
   ]
  },
  {
   "cell_type": "markdown",
   "metadata": {},
   "source": [
    "## Viewing Result"
   ]
  },
  {
   "cell_type": "code",
   "execution_count": 397,
   "metadata": {
    "collapsed": false
   },
   "outputs": [],
   "source": [
    "#clicking view Result Button\n",
    "view_result = driver.find_element_by_id(\"btnView\")\n",
    "view_result.click()"
   ]
  },
  {
   "cell_type": "code",
   "execution_count": 398,
   "metadata": {
    "collapsed": true
   },
   "outputs": [],
   "source": [
    "#clicking 2ND view result BUTTON\n",
    "#if(check fo a condition if first click was successful)\n",
    "view_result2 = driver.find_element_by_id(\"gvResultSummary_ctl02_lnkViewResult\")\n",
    "view_result2.click()"
   ]
  },
  {
   "cell_type": "markdown",
   "metadata": {},
   "source": [
    "##### The above CLICK 2 has to be corrected in case of multiple results (back, re, sem)"
   ]
  },
  {
   "cell_type": "markdown",
   "metadata": {},
   "source": [
    "## Fetching Result into format"
   ]
  },
  {
   "cell_type": "markdown",
   "metadata": {},
   "source": [
    "#### RESULT TABLE"
   ]
  },
  {
   "cell_type": "code",
   "execution_count": 399,
   "metadata": {
    "collapsed": false
   },
   "outputs": [],
   "source": [
    "#fetch result_table\n",
    "result_table = driver.find_elements_by_xpath('//form[1]//div[@id=\"tblBasicDetail\"]//table[@class=\"pure-table pure-table-striped pure-table-bordered\"]//tbody//tr')     "
   ]
  },
  {
   "cell_type": "markdown",
   "metadata": {},
   "source": [
    "#### STUDENT NAME and SGPA"
   ]
  },
  {
   "cell_type": "code",
   "execution_count": 400,
   "metadata": {
    "collapsed": false
   },
   "outputs": [],
   "source": [
    "#Student NAME fetch\n",
    "student_name_row = driver.find_element_by_xpath('//form[1]//div[@id=\"tblBasicDetail\"]//table[@class=\"pure-table pure-table-striped pure-table-bordered\"]//tbody//tr//td//span[@id=\"lblName\"]')  \n",
    "student_name = str(student_name_row.text)"
   ]
  },
  {
   "cell_type": "code",
   "execution_count": 401,
   "metadata": {
    "collapsed": true
   },
   "outputs": [],
   "source": [
    "#student SGPA\n",
    "#selecting data table inside BIGGER RESULT TABLE \n",
    "#sgpa row is in a table inside a result_table's 7th row \n",
    "all_elements_of_data_table = result_table[7].find_elements_by_xpath('.//td')\n",
    "\n",
    "#sgpa is the second last element of the table if we see(SGPA: X:YZ format )\n",
    "second_last_index = len(all_elements_of_data_table)-2\n",
    "sgpa_val = \"N/A\"\n",
    "#sgpa_val is in format(SGPA: X:YZ)\n",
    "if all_elements_of_data_table[second_last_index]:\n",
    "    sgpa_val = all_elements_of_data_table[second_last_index]\n",
    "    sgpa_val = float(sgpa_val.text.split(\" \")[1])"
   ]
  },
  {
   "cell_type": "code",
   "execution_count": 402,
   "metadata": {
    "collapsed": false
   },
   "outputs": [
    {
     "data": {
      "text/plain": [
       "7.39"
      ]
     },
     "execution_count": 402,
     "metadata": {},
     "output_type": "execute_result"
    }
   ],
   "source": [
    "sgpa_val"
   ]
  },
  {
   "cell_type": "code",
   "execution_count": 403,
   "metadata": {
    "collapsed": false
   },
   "outputs": [
    {
     "name": "stdout",
     "output_type": "stream",
     "text": [
      "0 Examination: B.Tech.(Computer Science and Engineering)4th Semester,2015\n",
      "1 ResultType: 4th Semester Regular (2016-2017)\n",
      "2 Date Of Publicaton:  02 Sep 2017\n",
      "3 Student Reg No: 1501202190\n",
      "4 Student Name: MADHUSMITA RATH\n",
      "5 College Name: NATIONAL INSTITUTE OF SCIENCE & TECHNOLOGY, BERHAMPUR\n",
      "6 Branch Name: B.Tech.(COMPUTER SCIENCE & ENGINEERING)\n",
      "7 S.No Subject Code Subject Credit Grade  \n",
      "1 PCS4I102 Design & Analysis of Algorithms 4 A\n",
      "2 PCS4I103 Database System 4 A\n",
      "3 PCS4I104 Formal Language & Automata Theory 4 E\n",
      "4 PMA4E001 Applied Mathematics III 3 F(Ex)\n",
      "5 POB4E003 Organizational Behavior 3 E\n",
      "Total Credits: 18 SGPA: 7.39  \n"
     ]
    }
   ],
   "source": [
    "##HOW RESULT TABLE IS STORED:::\n",
    "for i in range(0,8):\n",
    "        print(str(i)+\" \"+result_table[i].text)"
   ]
  },
  {
   "cell_type": "markdown",
   "metadata": {},
   "source": [
    "## DEFINITION OF FUNCTION combining all the above"
   ]
  },
  {
   "cell_type": "code",
   "execution_count": 405,
   "metadata": {
    "collapsed": true
   },
   "outputs": [],
   "source": [
    "def findGrade(regno):\n",
    "    #Exam session option\n",
    "    exam_option = Select(driver.find_element_by_name('ddlSession'))\n",
    "    #registration Number field\n",
    "    registerationNo_text = driver.find_element_by_id('txtRegNo');\n",
    "    #date of Birth field\n",
    "    birth_date_text = driver.find_element_by_id('dpStudentdob_dateInput');\n",
    "    \n",
    "    ###########FORM FILL\n",
    "    #Exam session::\n",
    "    exam_option.select_by_visible_text(\"Even(2016-17)\")\n",
    "    #Registration no value::\n",
    "    registerationNo_text.clear()\n",
    "    registerationNo_text.send_keys(regno)\n",
    "    #date of Birth value:refilling dob is not required though\n",
    "    birth_date_text.clear()\n",
    "    birth_date_text.send_keys(\"10/10/1995\")\n",
    "    \n",
    "    #########VIEW RESULT\n",
    "    #clicking view Result Button\n",
    "    view_result = driver.find_element_by_id(\"btnView\")\n",
    "    view_result.click()\n",
    "    #clicking 2ND view result BUTTON\n",
    "    view_result2 = driver.find_element_by_id(\"gvResultSummary_ctl02_lnkViewResult\")\n",
    "    view_result2.click()\n",
    "    \n",
    "    #########FETCH RESULT\n",
    "    #fetch result_table\n",
    "    result_table = driver.find_elements_by_xpath('//form[1]//div[@id=\"tblBasicDetail\"]//table[@class=\"pure-table pure-table-striped pure-table-bordered\"]//tbody//tr')    \n",
    "    #Student NAME fetch\n",
    "    student_name_row = driver.find_element_by_xpath('//form[1]//div[@id=\"tblBasicDetail\"]//table[@class=\"pure-table pure-table-striped pure-table-bordered\"]//tbody//tr//td//span[@id=\"lblName\"]')  \n",
    "    student_name = str(student_name_row.text)\n",
    "    #student SGPA\n",
    "    #selecting data table inside BIGGER RESULT TABLE \n",
    "    #sgpa row is in a table inside a result_table's 7th row \n",
    "    all_elements_of_data_table = result_table[7].find_elements_by_xpath('.//td')\n",
    "\n",
    "    #sgpa is the second last element of the table if we see(SGPA: X:YZ format )\n",
    "    second_last_index = len(all_elements_of_data_table)-2\n",
    "    sgpa_val = \"N/A\"\n",
    "    #sgpa_val is in format(SGPA: X:YZ)\n",
    "    if all_elements_of_data_table[second_last_index]:\n",
    "        sgpa_val = all_elements_of_data_table[second_last_index]\n",
    "        sgpa_val = float(sgpa_val.text.split(\" \")[1])\n",
    "    \n",
    "    return student_name,sgpa_val    "
   ]
  },
  {
   "cell_type": "markdown",
   "metadata": {},
   "source": [
    "## Writing it into A file(only RegistrationNo - Name - Sgpa)"
   ]
  },
  {
   "cell_type": "code",
   "execution_count": 407,
   "metadata": {
    "collapsed": true
   },
   "outputs": [],
   "source": [
    "result_store = open('results2.txt','a')"
   ]
  },
  {
   "cell_type": "code",
   "execution_count": 408,
   "metadata": {
    "collapsed": true
   },
   "outputs": [],
   "source": [
    "regnoStart = 1501202150"
   ]
  },
  {
   "cell_type": "code",
   "execution_count": 409,
   "metadata": {
    "collapsed": false
   },
   "outputs": [],
   "source": [
    "while regnoStart<1501202170:\n",
    "    name,cgpa = findGrade(regnoStart)\n",
    "    regnoStart = regnoStart + 1\n",
    "    result_store.write(str(regnoStart) + \"    \" + name + \"   \" + str(cgpa) + \"\\n\" )\n",
    "result_store.close()"
   ]
  },
  {
   "cell_type": "code",
   "execution_count": 410,
   "metadata": {
    "collapsed": true
   },
   "outputs": [],
   "source": [
    "driver.close()"
   ]
  },
  {
   "cell_type": "code",
   "execution_count": null,
   "metadata": {
    "collapsed": true
   },
   "outputs": [],
   "source": []
  }
 ],
 "metadata": {
  "kernelspec": {
   "display_name": "Python 3",
   "language": "python",
   "name": "python3"
  },
  "language_info": {
   "codemirror_mode": {
    "name": "ipython",
    "version": 2
   },
   "file_extension": ".py",
   "mimetype": "text/x-python",
   "name": "python",
   "nbconvert_exporter": "python",
   "pygments_lexer": "ipython2",
   "version": "2.7.13"
  }
 },
 "nbformat": 4,
 "nbformat_minor": 2
}
