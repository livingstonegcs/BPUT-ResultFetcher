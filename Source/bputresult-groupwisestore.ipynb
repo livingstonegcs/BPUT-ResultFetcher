{
 "cells": [
  {
   "cell_type": "markdown",
   "metadata": {},
   "source": [
    "# BPUT RESULT FETCHER \n",
    "## livingstonegcs@gmail.com"
   ]
  },
  {
   "cell_type": "markdown",
   "metadata": {
    "collapsed": false
   },
   "source": [
    "###INSTALLING CHROME AND SELIUM DRIVER AND ADDING IT TO PATH(/USR/BIN/)###\n",
    "\n",
    "sudo apt-get --yes --force-yes install chromium-browser xvfb unzip\n",
    "\n",
    "wget -N http://chromedriver.storage.googleapis.com/2.26/chromedriver_linux32.zip\n",
    "unzip chromedriver_linux32.zip\n",
    "chmod +x chromedriver\n",
    "\n",
    "sudo mv -f chromedriver /usr/local/share/chromedriver\n",
    "\n",
    "sudo ln -s /usr/local/share/chromedriver /usr/local/bin/chromedriver\n",
    "\n",
    "sudo ln -s /usr/local/share/chromedriver /usr/bin/chromedriver"
   ]
  },
  {
   "cell_type": "markdown",
   "metadata": {},
   "source": [
    "## Browser Opening and Driver_selection"
   ]
  },
  {
   "cell_type": "code",
   "execution_count": 1,
   "metadata": {
    "collapsed": false
   },
   "outputs": [],
   "source": [
    "#IMPORTING DEPENDENCIES\n",
    "import sys #for command line arguments (used in script note in ipynb)\n",
    "import time \n",
    "from selenium import webdriver\n",
    "from selenium.webdriver.support.ui import Select #for selecting option\n",
    "from selenium.webdriver.support.ui import WebDriverWait\n",
    "from selenium.webdriver.support import expected_conditions #for checking alert\n",
    "from selenium.common.exceptions import TimeoutException"
   ]
  },
  {
   "cell_type": "code",
   "execution_count": 2,
   "metadata": {
    "collapsed": false
   },
   "outputs": [],
   "source": [
    "site_bput = 'http://www.bputexam.in/StudentSection/ResultPublished/StudentResult.aspx'\n",
    "driver = webdriver.Chrome()\n",
    "driver.get(site_bput)"
   ]
  },
  {
   "cell_type": "markdown",
   "metadata": {},
   "source": [
    "## Finding elements of -> dropdownbox, textbox"
   ]
  },
  {
   "cell_type": "code",
   "execution_count": 3,
   "metadata": {
    "collapsed": false
   },
   "outputs": [],
   "source": [
    "#Exam session option\n",
    "exam_option = Select(driver.find_element_by_name('ddlSession'))\n",
    "\n",
    "#registration Number field\n",
    "registerationNo_text = driver.find_element_by_id('txtRegNo');\n",
    "\n",
    "#date of Birth field\n",
    "birth_date_text = driver.find_element_by_id('dpStudentdob_dateInput');"
   ]
  },
  {
   "cell_type": "markdown",
   "metadata": {},
   "source": [
    "## Filling form"
   ]
  },
  {
   "cell_type": "code",
   "execution_count": 4,
   "metadata": {
    "collapsed": false
   },
   "outputs": [],
   "source": [
    "#Exam session value::\n",
    "exam_option.select_by_visible_text(\"Even(2016-17)\")\n",
    "     #OR\n",
    "#exam_option.select_by_value(\"17\")\n",
    "\n",
    "#Registration no value::\n",
    "registerationNo_text.clear()\n",
    "registerationNo_text.send_keys(1501202190)\n",
    "\n",
    "#date of Birth value:\n",
    "birth_date_text.clear()\n",
    "birth_date_text.send_keys(\"10/10/1995\")"
   ]
  },
  {
   "cell_type": "markdown",
   "metadata": {},
   "source": [
    "## Viewing Result"
   ]
  },
  {
   "cell_type": "markdown",
   "metadata": {},
   "source": [
    "* CLICK 1 - View Result"
   ]
  },
  {
   "cell_type": "code",
   "execution_count": 5,
   "metadata": {
    "collapsed": false
   },
   "outputs": [],
   "source": [
    "#clicking view Result Button\n",
    "view_result = driver.find_element_by_id(\"btnView\")\n",
    "view_result.click()"
   ]
  },
  {
   "cell_type": "markdown",
   "metadata": {},
   "source": [
    "<img src=\"click1.png\"  >"
   ]
  },
  {
   "cell_type": "markdown",
   "metadata": {},
   "source": [
    "* CLICK2 - View Result"
   ]
  },
  {
   "cell_type": "code",
   "execution_count": 6,
   "metadata": {
    "collapsed": false
   },
   "outputs": [],
   "source": [
    "#clicking 2ND view result BUTTON\n",
    "#if(check fo a condition if first click was successful)\n",
    "view_result2 = driver.find_element_by_id(\"gvResultSummary_ctl02_lnkViewResult\")\n",
    "view_result2.click()"
   ]
  },
  {
   "cell_type": "markdown",
   "metadata": {},
   "source": [
    "<img src=\"click2.png\"  >"
   ]
  },
  {
   "cell_type": "markdown",
   "metadata": {},
   "source": [
    "##### The above CLICK 2 has to be corrected in case of multiple results (other-sem, back-result, rechecking, sem) So we do the below code"
   ]
  },
  {
   "cell_type": "code",
   "execution_count": 29,
   "metadata": {
    "collapsed": false
   },
   "outputs": [],
   "source": [
    "def secondClick():#clicking 2ND view result BUTTON\n",
    "    view_result2 = driver.find_elements_by_id(\"gvResultSummary_ctl02_lnkViewResult\")\n",
    "    #if results not found\n",
    "    if len(view_result2)==0:\n",
    "         return False\n",
    "    #BOOLEAN-flag for desired result there may be multiple result(back,2nd sem,4th sem) we have to select one\n",
    "    desired_result=False\n",
    "    for i in range(1,6):\n",
    "        view_result_subject_code = driver.find_elements_by_id(\"gvResultSummary_ctl0\"+str(i)+\"_lblSubCode\")\n",
    "        #finding subject of 4th semester so that respective button can be clicked\n",
    "        for result in view_result_subject_code:\n",
    "            if str(result.text).find('4th')!=-1:\n",
    "                result_view_button = driver.find_element_by_id(\"gvResultSummary_ctl0\"+str(i)+\"_lnkViewResult\")\n",
    "                result_view_button.click()\n",
    "                desired_result=True\n",
    "                break\n",
    "        if desired_result:\n",
    "            break\n",
    "    return True"
   ]
  },
  {
   "cell_type": "markdown",
   "metadata": {},
   "source": [
    "## Fetching Result into format"
   ]
  },
  {
   "cell_type": "markdown",
   "metadata": {},
   "source": [
    "#### RESULT TABLE"
   ]
  },
  {
   "cell_type": "code",
   "execution_count": 8,
   "metadata": {
    "collapsed": false
   },
   "outputs": [],
   "source": [
    "#fetch result_table\n",
    "result_table = driver.find_elements_by_xpath('//form[1]//div[@id=\"tblBasicDetail\"]//table[@class=\"pure-table pure-table-striped pure-table-bordered\"]//tbody//tr')     "
   ]
  },
  {
   "cell_type": "markdown",
   "metadata": {},
   "source": [
    "#### STUDENT NAME and SGPA"
   ]
  },
  {
   "cell_type": "code",
   "execution_count": 9,
   "metadata": {
    "collapsed": false
   },
   "outputs": [],
   "source": [
    "#Student NAME fetch\n",
    "student_name_row = driver.find_element_by_xpath('//form[1]//div[@id=\"tblBasicDetail\"]//table[@class=\"pure-table pure-table-striped pure-table-bordered\"]//tbody//tr//td//span[@id=\"lblName\"]')  \n",
    "student_name = str(student_name_row.text)"
   ]
  },
  {
   "cell_type": "code",
   "execution_count": 10,
   "metadata": {
    "collapsed": true
   },
   "outputs": [],
   "source": [
    "#student SGPA\n",
    "#selecting data table inside BIGGER RESULT TABLE \n",
    "#sgpa row is in a table inside a result_table's 7th row \n",
    "all_elements_of_data_table = result_table[7].find_elements_by_xpath('.//td')\n",
    "\n",
    "#sgpa is the second last element of the table if we see(SGPA: X:YZ format )\n",
    "second_last_index = len(all_elements_of_data_table)-2\n",
    "sgpa_val = \"N/A\"\n",
    "#sgpa_val is in format(SGPA: X:YZ)\n",
    "if all_elements_of_data_table[second_last_index]:\n",
    "    sgpa_val = all_elements_of_data_table[second_last_index]\n",
    "    sgpa_val = float(sgpa_val.text.split(\" \")[1])"
   ]
  },
  {
   "cell_type": "code",
   "execution_count": 11,
   "metadata": {
    "collapsed": false
   },
   "outputs": [
    {
     "data": {
      "text/plain": [
       "7.39"
      ]
     },
     "execution_count": 11,
     "metadata": {},
     "output_type": "execute_result"
    }
   ],
   "source": [
    "sgpa_val"
   ]
  },
  {
   "cell_type": "code",
   "execution_count": 12,
   "metadata": {
    "collapsed": false
   },
   "outputs": [
    {
     "name": "stdout",
     "output_type": "stream",
     "text": [
      "0 Examination: B.Tech.(Computer Science and Engineering)4th Semester,2015\n",
      "1 ResultType: 4th Semester Regular (2016-2017)\n",
      "2 Date Of Publicaton:  02 Sep 2017\n",
      "3 Student Reg No: 1501202190\n",
      "4 Student Name: MADHUSMITA RATH\n",
      "5 College Name: NATIONAL INSTITUTE OF SCIENCE & TECHNOLOGY, BERHAMPUR\n",
      "6 Branch Name: B.Tech.(COMPUTER SCIENCE & ENGINEERING)\n",
      "7 S.No Subject Code Subject Credit Grade  \n",
      "1 PCS4I102 Design & Analysis of Algorithms 4 A\n",
      "2 PCS4I103 Database System 4 A\n",
      "3 PCS4I104 Formal Language & Automata Theory 4 E\n",
      "4 PMA4E001 Applied Mathematics III 3 F(Ex)\n",
      "5 POB4E003 Organizational Behavior 3 E\n",
      "Total Credits: 18 SGPA: 7.39  \n"
     ]
    }
   ],
   "source": [
    "##SHOWING RESULT TABLE IS STORED:::\n",
    "for i in range(0,8):\n",
    "        print(str(i)+\" \"+result_table[i].text)"
   ]
  },
  {
   "cell_type": "markdown",
   "metadata": {},
   "source": [
    "## DEFINITION OF FUNCTION combining all the above"
   ]
  },
  {
   "cell_type": "code",
   "execution_count": 1,
   "metadata": {
    "collapsed": false
   },
   "outputs": [],
   "source": [
    "#REWRITING FUNTION For readability\n",
    "#IMPORTING DEPENDENCIES\n",
    "import sys #for command line arguments (used in script note in ipynb)\n",
    "import time \n",
    "from selenium import webdriver\n",
    "from selenium.webdriver.support.ui import Select #for selecting option\n",
    "from selenium.webdriver.support.ui import WebDriverWait\n",
    "from selenium.webdriver.support import expected_conditions #for checking alert\n",
    "from selenium.common.exceptions import TimeoutException\n",
    "from selenium.common.exceptions import NoAlertPresentException\n",
    "\n",
    "site_bput = 'http://www.bputexam.in/StudentSection/ResultPublished/StudentResult.aspx'\n",
    "\n",
    "def secondClick():#clicking 2ND view result BUTTON\n",
    "    view_result2 = driver.find_elements_by_id(\"gvResultSummary_ctl02_lnkViewResult\")\n",
    "    #if results not found\n",
    "    if len(view_result2)==0:\n",
    "         return False\n",
    "    #BOOLEAN-flag for desired result there may be multiple result(back,2nd sem,4th sem) we have to select one\n",
    "    desired_result=False\n",
    "    for i in range(1,6):\n",
    "        view_result_subject_code = driver.find_elements_by_id(\"gvResultSummary_ctl0\"+str(i)+\"_lblSubCode\")\n",
    "        #finding subject of 4th semester so that respective button can be clicked\n",
    "        for result in view_result_subject_code:\n",
    "            if str(result.text).find('4th')!=-1:\n",
    "                result_view_button = driver.find_element_by_id(\"gvResultSummary_ctl0\"+str(i)+\"_lnkViewResult\")\n",
    "                result_view_button.click()\n",
    "                desired_result=True\n",
    "                break\n",
    "        if desired_result:\n",
    "            break\n",
    "    return desired_result\n",
    "\n",
    "def findGrade(regno):\n",
    "    #Exam session option\n",
    "    exam_option = Select(driver.find_element_by_name('ddlSession'))\n",
    "    #registration Number field\n",
    "    registerationNo_text = driver.find_element_by_id('txtRegNo');\n",
    "    #date of Birth field\n",
    "    birth_date_text = driver.find_element_by_id('dpStudentdob_dateInput');\n",
    "    \n",
    "    ###########FORM FILL\n",
    "    #Exam session::\n",
    "    exam_option.select_by_visible_text(\"Even(2016-17)\")\n",
    "    #Registration no value::\n",
    "    registerationNo_text.clear()\n",
    "    registerationNo_text.send_keys(regno)\n",
    "    #date of Birth value:refilling dob is not required though\n",
    "    birth_date_text.clear()\n",
    "    birth_date_text.send_keys(\"10/10/1995\")\n",
    "    \n",
    "    #########VIEW RESULT\n",
    "    #clicking view Result Button\n",
    "    view_result = driver.find_element_by_id(\"btnView\")\n",
    "    try:\n",
    "        view_result.click()\n",
    "    except Exception:\n",
    "        driver.get(site_bput)\n",
    "        return \"no result found\",\"\"\n",
    "    #if click produces exception or gives alert\n",
    "    do_nothing = True\n",
    "    try:\n",
    "        WebDriverWait(driver,3).until(expected_conditions.alert_is_present())\n",
    "        driver.switch_to_alert().accept()\n",
    "        driver.get(site_bput)\n",
    "        return \"no result found\",\"\"\n",
    "    except TimeoutException:\n",
    "        do_nothing = False\n",
    "        \n",
    "    #clicking 2ND view result BUTTON\n",
    "    if not secondClick():\n",
    "        driver.get(site_bput)\n",
    "        return \"No result Found\",\"\"\n",
    "    \n",
    "    #########FETCH RESULT\n",
    "    #fetch result_table\n",
    "    result_table = driver.find_elements_by_xpath('//form[1]//div[@id=\"tblBasicDetail\"]//table[@class=\"pure-table pure-table-striped pure-table-bordered\"]//tbody//tr')    \n",
    "    #Student NAME fetch\n",
    "    try:\n",
    "        student_name_row = driver.find_element_by_xpath('//form[1]//div[@id=\"tblBasicDetail\"]//table[@class=\"pure-table pure-table-striped pure-table-bordered\"]//tbody//tr//td//span[@id=\"lblName\"]')\n",
    "    except Exception:\n",
    "        driver.get(site_bput)\n",
    "        return \"No result Found\",\"\"\n",
    "    student_name = str(student_name_row.text)\n",
    "    #student SGPA\n",
    "    #selecting data table inside BIGGER RESULT TABLE \n",
    "    #sgpa row is in a table inside a result_table's 7th row \n",
    "    all_elements_of_data_table = result_table[7].find_elements_by_xpath('.//td')\n",
    "\n",
    "    #sgpa is the second last element of the table if we see(SGPA: X:YZ format )\n",
    "    second_last_index = len(all_elements_of_data_table)-2\n",
    "    sgpa_val = \"N/A\"\n",
    "    #sgpa_val is in format(SGPA: X:YZ)\n",
    "    if all_elements_of_data_table[second_last_index]:\n",
    "        sgpa_val = all_elements_of_data_table[second_last_index]\n",
    "        sgpa_val = float(sgpa_val.text.split(\" \")[1])\n",
    "    \n",
    "    return student_name,sgpa_val    "
   ]
  },
  {
   "cell_type": "markdown",
   "metadata": {},
   "source": [
    "## Writing it into A file(only RegistrationNo - Name - Sgpa)"
   ]
  },
  {
   "cell_type": "code",
   "execution_count": 2,
   "metadata": {
    "collapsed": true
   },
   "outputs": [],
   "source": [
    "#registering Webdriver\n",
    "site_bput = 'http://www.bputexam.in/StudentSection/ResultPublished/StudentResult.aspx'\n",
    "driver = webdriver.Chrome()\n",
    "driver.get(site_bput)\n",
    "result_store = open('results.txt','a')"
   ]
  },
  {
   "cell_type": "code",
   "execution_count": 3,
   "metadata": {
    "collapsed": true
   },
   "outputs": [],
   "source": [
    "#just assigning values to starting and ending regno\n",
    "regnoStart = 1501202190\n",
    "regnoEnd = 1501202195\n",
    "filename = 'results.txt'"
   ]
  },
  {
   "cell_type": "code",
   "execution_count": 4,
   "metadata": {
    "collapsed": false
   },
   "outputs": [
    {
     "name": "stdout",
     "output_type": "stream",
     "text": [
      "1501202190    MADHUSMITA RATH   7.68\n",
      "1501202191    MADIREDDI VENKAT MANAS CHANDRA   7.48\n",
      "1501202192    MANISH KUMAR VERMA   8.0\n",
      "1501202193    no result found   \n",
      "1501202194    MAYANK SHARMA   7.96\n",
      "1501202195    MONALI BEBORTA   8.0\n"
     ]
    }
   ],
   "source": [
    "starting_time = time.time()\n",
    "\n",
    "result_store.write(\"Script::resultFetcher.py Author::livingstonegcs@gmail.com,NIST-Berhampur\\n\")\n",
    "result_store.write(\"Range_Regno, From:\"+str(regnoStart)+\" to \"+ str(regnoEnd)+\"\\n\")\n",
    "while regnoStart<=regnoEnd:\n",
    "    result_store = open(filename,'a')\n",
    "    #Extracting information 30-students-set-wise\n",
    "    for i in range(1,30):\n",
    "        name,cgpa = findGrade(regnoStart)\n",
    "        #Writing in the console\n",
    "        print(str(regnoStart) + \"    \" + name + \"   \" + str(cgpa))\n",
    "        #writing in FILE\n",
    "        result_store.write(str(regnoStart) + \"    \" + name + \"   \" + str(cgpa) + \"\\n\" )\n",
    "        regnoStart = regnoStart + 1\n",
    "        if regnoStart>regnoEnd:\n",
    "            break\n",
    "    result_store.close()\n",
    "\n",
    "result_store.close()\n",
    "\n",
    "ending_time = time.time()"
   ]
  },
  {
   "cell_type": "code",
   "execution_count": 5,
   "metadata": {
    "collapsed": false
   },
   "outputs": [],
   "source": [
    "driver.close()"
   ]
  },
  {
   "cell_type": "code",
   "execution_count": 6,
   "metadata": {
    "collapsed": false
   },
   "outputs": [
    {
     "name": "stdout",
     "output_type": "stream",
     "text": [
      "Time taken: 2 Mins 42 Secs\n"
     ]
    }
   ],
   "source": [
    "#Writing time taken\n",
    "result_store = open(filename,'a')\n",
    "result_store.write(\"Time taken: \"+str(int((ending_time-starting_time)//60))+\" Mins \"+ str(int((ending_time-starting_time)%60))+\" Secs\\n\")\n",
    "result_store.close()\n",
    "\n",
    "print(\"Time taken: \"+str(int((ending_time-starting_time)//60))+\" Mins \"+ str(int((ending_time-starting_time)%60))+\" Secs\")"
   ]
  },
  {
   "cell_type": "markdown",
   "metadata": {
    "collapsed": true
   },
   "source": [
    "### Time Taken was high due to connection bandwidth"
   ]
  }
 ],
 "metadata": {
  "kernelspec": {
   "display_name": "Python 3",
   "language": "python",
   "name": "python3"
  },
  "language_info": {
   "codemirror_mode": {
    "name": "ipython",
    "version": 2
   },
   "file_extension": ".py",
   "mimetype": "text/x-python",
   "name": "python",
   "nbconvert_exporter": "python",
   "pygments_lexer": "ipython2",
   "version": "2.7.13"
  }
 },
 "nbformat": 4,
 "nbformat_minor": 2
}
