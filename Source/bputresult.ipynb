{
 "cells": [
  {
   "cell_type": "markdown",
   "metadata": {},
   "source": [
    "###INSTALLING CHROME AND SELIUM DRIVER AND ADDING IT TO PATH(/USR/BIN/)###\n",
    "\n",
    "sudo apt-get --yes --force-yes install chromium-browser xvfb unzip\n",
    "\n",
    "wget -N http://chromedriver.storage.googleapis.com/2.26/chromedriver_linux32.zip\n",
    "\n",
    "unzip chromedriver_linux32.zip\n",
    "\n",
    "chmod +x chromedriver\n",
    "\n",
    "sudo mv -f chromedriver /usr/local/share/chromedriver\n",
    "\n",
    "sudo ln -s /usr/local/share/chromedriver /usr/local/bin/chromedriver\n",
    "\n",
    "sudo ln -s /usr/local/share/chromedriver /usr/bin/chromedriver\n",
    "\n",
    "#### geckodriver\n",
    "wget https://github.com/mozilla/geckodriver/releases/download/v0.11.1/geckodriver-v0.11.1-linux64.tar.gz\n",
    "\n",
    "tar -xvzf geckodriver-v0.11.1-linux64.tar.gz\n",
    "\n",
    "chmod +x geckodriver\n",
    "\n",
    "cp geckodriver /usr/local/bin/\n",
    "\n"
   ]
  },
  {
   "cell_type": "markdown",
   "metadata": {},
   "source": [
    "## Browser Opening and Driver_selection"
   ]
  },
  {
   "cell_type": "code",
   "execution_count": 429,
   "metadata": {
    "collapsed": true
   },
   "outputs": [],
   "source": [
    "#IMPORTING DEPENDENCIES\n",
    "import time\n",
    "from selenium import webdriver\n",
    "from selenium.webdriver.common.by import By\n",
    "from selenium.webdriver.support.ui import WebDriverWait\n",
    "from selenium.webdriver.support import expected_conditions as EC \n",
    "from selenium.webdriver.support.ui import Select #for selecting option"
   ]
  },
  {
   "cell_type": "code",
   "execution_count": 430,
   "metadata": {
    "collapsed": true
   },
   "outputs": [],
   "source": [
    "driver = webdriver.Chrome()\n",
    "#driver = webdriver.Firefox()"
   ]
  },
  {
   "cell_type": "code",
   "execution_count": 431,
   "metadata": {
    "collapsed": true
   },
   "outputs": [],
   "source": [
    "driver.get('http://www.bputexam.in/StudentSection/ResultPublished/StudentResult.aspx')"
   ]
  },
  {
   "cell_type": "markdown",
   "metadata": {},
   "source": [
    "## Finding elements of -> dropdownbox, textbox"
   ]
  },
  {
   "cell_type": "code",
   "execution_count": 433,
   "metadata": {
    "collapsed": true
   },
   "outputs": [],
   "source": [
    "#Exam session option\n",
    "exam_option = Select(driver.find_element_by_name('ddlSession'))"
   ]
  },
  {
   "cell_type": "code",
   "execution_count": 434,
   "metadata": {
    "collapsed": true
   },
   "outputs": [],
   "source": [
    "#registration Number field\n",
    "registerationNo_text = driver.find_element_by_id('txtRegNo');"
   ]
  },
  {
   "cell_type": "code",
   "execution_count": 435,
   "metadata": {
    "collapsed": true
   },
   "outputs": [],
   "source": [
    "#date of Birth field\n",
    "birth_date_text = driver.find_element_by_id('dpStudentdob_dateInput');"
   ]
  },
  {
   "cell_type": "markdown",
   "metadata": {},
   "source": [
    "## Filling form"
   ]
  },
  {
   "cell_type": "code",
   "execution_count": 436,
   "metadata": {
    "collapsed": true
   },
   "outputs": [],
   "source": [
    "#Exam session value::\n",
    "exam_option.select_by_visible_text(\"Odd(2017-18)\")\n",
    "     #OR\n",
    "#exam_option.select_by_value(\"17\")"
   ]
  },
  {
   "cell_type": "code",
   "execution_count": 437,
   "metadata": {
    "collapsed": true
   },
   "outputs": [],
   "source": [
    "#Registration no value::\n",
    "registerationNo_text.clear()\n",
    "registerationNo_text.send_keys(1501202010)"
   ]
  },
  {
   "cell_type": "code",
   "execution_count": 438,
   "metadata": {},
   "outputs": [
    {
     "name": "stdout",
     "output_type": "stream",
     "text": [
      "Hello\n"
     ]
    }
   ],
   "source": [
    "#date of Birth value:\n",
    "birth_date_text.clear()\n",
    "birth_date_text.send_keys(\"10/10/1995\")\n",
    "print(\"Hello\")"
   ]
  },
  {
   "cell_type": "markdown",
   "metadata": {},
   "source": [
    "## Viewing Result"
   ]
  },
  {
   "cell_type": "markdown",
   "metadata": {},
   "source": [
    "** This can be done in any of the below mentioned ways (a or b or c) **"
   ]
  },
  {
   "cell_type": "code",
   "execution_count": 416,
   "metadata": {
    "collapsed": true
   },
   "outputs": [],
   "source": [
    "#A\n",
    "#Clicking on any white space to come out of text box\n",
    "action = webdriver.common.action_chains.ActionChains(driver)\n",
    "action.move_by_offset(150,0) #move 150 pixels to the right to access blank space\n",
    "action.click()\n",
    "action.perform()"
   ]
  },
  {
   "cell_type": "code",
   "execution_count": 417,
   "metadata": {
    "collapsed": true
   },
   "outputs": [],
   "source": [
    "# Clicking view Result Button\n",
    "view_result = driver.find_element_by_id(\"btnView\")\n",
    "#execute either 1. or 2. statement\n",
    "#1.\n",
    "#view_result.click()\n",
    "#2.\n",
    "driver.execute_script(\"arguments[0].scrollIntoView();\", view_result)\n",
    "driver.execute_script(\"arguments[0].click();\", view_result)"
   ]
  },
  {
   "cell_type": "markdown",
   "metadata": {},
   "source": [
    "** OR **"
   ]
  },
  {
   "cell_type": "code",
   "execution_count": 282,
   "metadata": {
    "collapsed": true
   },
   "outputs": [],
   "source": [
    "#C\n",
    "element = WebDriverWait(driver, 10).until(\n",
    "    EC.presence_of_element_located((By.ID, 'btnView'))\n",
    ")\n",
    "driver.execute_script(\"arguments[0].click()\", element)"
   ]
  },
  {
   "cell_type": "code",
   "execution_count": 418,
   "metadata": {
    "collapsed": true
   },
   "outputs": [],
   "source": [
    "#clicking 2ND view result BUTTON\n",
    "#if(check fo a condition if first click was successful)\n",
    "view_result2 = driver.find_element_by_id(\"gvResultSummary_ctl02_lnkViewResult\")\n",
    "#1.\n",
    "#view_result2.click()\n",
    "#2.\n",
    "driver.execute_script(\"arguments[0].click();\", view_result2)"
   ]
  },
  {
   "cell_type": "code",
   "execution_count": 395,
   "metadata": {},
   "outputs": [
    {
     "name": "stdout",
     "output_type": "stream",
     "text": [
      "SECOND CLICK DONE\n",
      "\n"
     ]
    },
    {
     "data": {
      "text/plain": [
       "True"
      ]
     },
     "execution_count": 395,
     "metadata": {},
     "output_type": "execute_result"
    }
   ],
   "source": [
    "secondClick()"
   ]
  },
  {
   "cell_type": "markdown",
   "metadata": {},
   "source": [
    "##### The above CLICK 2 has to be corrected in case of multiple results (back, re, sem) So we do the below code"
   ]
  },
  {
   "cell_type": "code",
   "execution_count": 1,
   "metadata": {
    "collapsed": true
   },
   "outputs": [],
   "source": [
    "#REWRITING FUNTION For readability\n",
    "def secondClick():#clicking 2ND view result BUTTON\n",
    "    try:\n",
    "        view_result2 = driver.find_elements_by_id(\"gvResultSummary_ctl02_lnkViewResult\")\n",
    "        #if results not found\n",
    "        if len(view_result2)==0:\n",
    "            return False\n",
    "        #BOOLEAN-flag for desired result there may be multiple result(back,2nd sem,4th sem) we have to select one\n",
    "        desired_result=False\n",
    "        for i in range(1,6):\n",
    "            view_result_subject_code = driver.find_elements_by_id(\"gvResultSummary_ctl0\"+str(i)+\"_lblSubCode\")\n",
    "            #finding subject of 5th semester so that respective button can be clicked\n",
    "            for result in view_result_subject_code:\n",
    "                if str(result.text).find('5TH')!=-1:\n",
    "                    #A\n",
    "                    #Clicking on any white space to come out of text box\n",
    "                    action = webdriver.common.action_chains.ActionChains(driver)\n",
    "                    action.move_by_offset(150,0) #move 150 pixels to the right to access Help link\n",
    "                    action.click()\n",
    "                    action.perform()\n",
    "                    result_view_button = driver.find_element_by_id(\"gvResultSummary_ctl0\"+str(i)+\"_lnkViewResult\")\n",
    "                    #result_view_button.click()\n",
    "                    driver.execute_script(\"arguments[0].click();\", result_view_button)\n",
    "                    print(\"SECOND CLICK DONE\\n\")\n",
    "                    desired_result=True\n",
    "                    break\n",
    "            if desired_result:\n",
    "                return True\n",
    "        return False\n",
    "    except Exception:\n",
    "        return False"
   ]
  },
  {
   "cell_type": "markdown",
   "metadata": {},
   "source": [
    "## Fetching Result into format"
   ]
  },
  {
   "cell_type": "markdown",
   "metadata": {},
   "source": [
    "#### RESULT TABLE"
   ]
  },
  {
   "cell_type": "code",
   "execution_count": 420,
   "metadata": {
    "collapsed": true
   },
   "outputs": [],
   "source": [
    "#fetch result_table\n",
    "result_table = driver.find_elements_by_xpath('//form[1]//div[@id=\"tblBasicDetail\"]//table[@class=\"pure-table pure-table-striped pure-table-bordered\"]//tbody//tr')     "
   ]
  },
  {
   "cell_type": "markdown",
   "metadata": {},
   "source": [
    "#### STUDENT NAME and SGPA"
   ]
  },
  {
   "cell_type": "code",
   "execution_count": 421,
   "metadata": {
    "collapsed": true
   },
   "outputs": [],
   "source": [
    "#Student NAME fetch\n",
    "student_name_row = driver.find_element_by_xpath('//form[1]//div[@id=\"tblBasicDetail\"]//table[@class=\"pure-table pure-table-striped pure-table-bordered\"]//tbody//tr//td//span[@id=\"lblName\"]')  \n",
    "student_name = str(student_name_row.text)"
   ]
  },
  {
   "cell_type": "code",
   "execution_count": 422,
   "metadata": {},
   "outputs": [
    {
     "name": "stdout",
     "output_type": "stream",
     "text": [
      "SGPA: 7.83\n"
     ]
    }
   ],
   "source": [
    "#student SGPA\n",
    "#selecting data table inside BIGGER RESULT TABLE \n",
    "#sgpa row is in a table inside a result_table's 5th row\n",
    "\n",
    "#TO FIND OUT THE ROW IN WHICH GPA IS PRESENT FOLLOW THE NEXT CELL\n",
    "\n",
    "all_elements_of_data_table = result_table[5].find_elements_by_xpath('.//td')\n",
    "\n",
    "#sgpa is the second last element of the table if we see(SGPA: X:YZ format )\n",
    "second_last_index = len(all_elements_of_data_table)-2\n",
    "sgpa_val = \"N/A\"\n",
    "#sgpa_val is in format(SGPA: X:YZ)\n",
    "if all_elements_of_data_table[second_last_index]:\n",
    "    sgpa_val = all_elements_of_data_table[second_last_index]\n",
    "    print(sgpa_val.text)\n",
    "    sgpa_val = float(sgpa_val.text.split(\" \")[1])"
   ]
  },
  {
   "cell_type": "code",
   "execution_count": 423,
   "metadata": {},
   "outputs": [
    {
     "data": {
      "text/plain": [
       "7.83"
      ]
     },
     "execution_count": 423,
     "metadata": {},
     "output_type": "execute_result"
    }
   ],
   "source": [
    "sgpa_val"
   ]
  },
  {
   "cell_type": "code",
   "execution_count": 424,
   "metadata": {},
   "outputs": [
    {
     "name": "stdout",
     "output_type": "stream",
     "text": [
      "0 STUDENT RESULT SUMMARY\n",
      "\n",
      "\n",
      "1 Examination: B.TECH.(COMPUTER SCIENCE AND ENGINEERING)5TH SEMESTER,2015 ResultType: 5th SemesterOdd-(2017-18) (2017-2018)\n",
      "\n",
      "\n",
      "2 Reg No: 1501202010 Student Name: BANDITA MOHAPATRA\n",
      "\n",
      "\n",
      "3 College Name: NATIONAL INSTITUTE OF SCIENCE & TECHNOLOGY, BERHAMPUR Branch Name: B.Tech.(COMPUTER SCIENCE & ENGINEERING)\n",
      "\n",
      "\n",
      "4 Date of Publicaton:  03 Feb 2018\n",
      "\n",
      "\n",
      "5 S.No Subject Code Subject Credit Grade  \n",
      "1 PCS5H002 DATA MINING & DATA WAREHOUSING 4 B\n",
      "2 PCS5I001 ADVANCED COMPUTER ARCHITECTURE 4 A\n",
      "3 PCS5I101 OPERATING SYSTEMS 4 E\n",
      "4 PCS5I102 COMPUTER GRAPHICS 4 B\n",
      "5 PCS5I201 ADVANCE LAB - I 4 E\n",
      "6 PCS5J102 INTERNET OF THINGS 4 B\n",
      "Total Credits: 24 SGPA: 7.83  \n",
      "\n",
      "\n",
      "6 S.No Subject Code Subject Credit Grade  \n",
      "\n",
      "\n",
      "7 1 PCS5H002 DATA MINING & DATA WAREHOUSING 4 B\n",
      "\n",
      "\n"
     ]
    }
   ],
   "source": [
    "##HOW RESULT TABLE IS STORED::: and to find out \n",
    "for i in range(0,8):\n",
    "        print(str(i)+\" \"+result_table[i].text)\n",
    "        print(\"\\n\")"
   ]
  },
  {
   "cell_type": "markdown",
   "metadata": {},
   "source": [
    "## DEFINITION OF FUNCTION combining all the above"
   ]
  },
  {
   "cell_type": "code",
   "execution_count": 439,
   "metadata": {
    "collapsed": true
   },
   "outputs": [],
   "source": [
    "#REWRITING FUNTION For readability\n",
    "def secondClick():#clicking 2ND view result BUTTON\n",
    "    view_result2 = driver.find_elements_by_id(\"gvResultSummary_ctl02_lnkViewResult\")\n",
    "    #if results not found\n",
    "    if len(view_result2)==0:\n",
    "         return False\n",
    "    #BOOLEAN-flag for desired result there may be multiple result(back,2nd sem,4th sem) we have to select one\n",
    "    desired_result=False\n",
    "    for i in range(1,6):\n",
    "        view_result_subject_code = driver.find_elements_by_id(\"gvResultSummary_ctl0\"+str(i)+\"_lblSubCode\")\n",
    "        #finding subject of 5th semester so that respective button can be clicked\n",
    "        for result in view_result_subject_code:\n",
    "            if str(result.text).find('5TH')!=-1:\n",
    "                #A\n",
    "                #Clicking on any white space to come out of text box\n",
    "                action = webdriver.common.action_chains.ActionChains(driver)\n",
    "                action.move_by_offset(150,0) #move 150 pixels to the right to access Help link\n",
    "                action.click()\n",
    "                action.perform()\n",
    "                result_view_button = driver.find_element_by_id(\"gvResultSummary_ctl0\"+str(i)+\"_lnkViewResult\")\n",
    "                #result_view_button.click()\n",
    "                driver.execute_script(\"arguments[0].click();\", result_view_button)\n",
    "                print(\"SECOND CLICK DONE\\n\")\n",
    "                desired_result=True\n",
    "                break\n",
    "        if desired_result:\n",
    "            return True\n",
    "    return False\n",
    "def findGrade(regno):\n",
    "    #Exam session option\n",
    "    exam_option = Select(driver.find_element_by_name('ddlSession'))\n",
    "    #registration Number field\n",
    "    registerationNo_text = driver.find_element_by_id('txtRegNo');\n",
    "    #date of Birth field\n",
    "    birth_date_text = driver.find_element_by_id('dpStudentdob_dateInput');\n",
    "    \n",
    "    ###########FORM FILL\n",
    "    #Exam session::\n",
    "    exam_option.select_by_visible_text(\"Odd(2017-18)\")\n",
    "    #Registration no value::\n",
    "    registerationNo_text.clear()\n",
    "    registerationNo_text.send_keys(regno)\n",
    "    #date of Birth value:refilling dob is not required though\n",
    "    birth_date_text.clear()\n",
    "    birth_date_text.send_keys(\"10/10/1996\")\n",
    "    \n",
    "    #########VIEW RESULT\n",
    "    #clicking view Result Button\n",
    "    #A\n",
    "    #Clicking on any white space to come out of text box\n",
    "    action = webdriver.common.action_chains.ActionChains(driver)\n",
    "    action.move_by_offset(150,0) #move 150 pixels to the right to access Help link\n",
    "    action.click()\n",
    "    action.perform()\n",
    "  \n",
    "    view_result = driver.find_element_by_id(\"btnView\")\n",
    "    driver.execute_script(\"arguments[0].click();\", view_result)\n",
    "    #clicking 2ND view result BUTTON\n",
    "    if not secondClick():\n",
    "        return \"No result Found\",\"\"\n",
    "    \n",
    "    #########FETCH RESULT\n",
    "    #fetch result_table\n",
    "    result_table = driver.find_elements_by_xpath('//form[1]//div[@id=\"tblBasicDetail\"]//table[@class=\"pure-table pure-table-striped pure-table-bordered\"]//tbody//tr')    \n",
    "    #Student NAME fetch\n",
    "    student_name_row = driver.find_element_by_xpath('//form[1]//div[@id=\"tblBasicDetail\"]//table[@class=\"pure-table pure-table-striped pure-table-bordered\"]//tbody//tr//td//span[@id=\"lblName\"]')  \n",
    "    student_name = str(student_name_row.text)\n",
    "    #student SGPA\n",
    "    #selecting data table inside BIGGER RESULT TABLE \n",
    "    #sgpa row is in a table inside a result_table's 7th row \n",
    "    all_elements_of_data_table = result_table[5].find_elements_by_xpath('.//td')\n",
    "\n",
    "    #sgpa is the second last element of the table if we see(SGPA: X:YZ format )\n",
    "    second_last_index = len(all_elements_of_data_table)-2\n",
    "    sgpa_val = \"N/A\"\n",
    "    #sgpa_val is in format(SGPA: X:YZ)\n",
    "    if all_elements_of_data_table[second_last_index]:\n",
    "        sgpa_val = all_elements_of_data_table[second_last_index]\n",
    "        sgpa_val = float(sgpa_val.text.split(\" \")[1])\n",
    "    \n",
    "    return student_name,sgpa_val    "
   ]
  },
  {
   "cell_type": "markdown",
   "metadata": {},
   "source": [
    "## Writing it into A file(only RegistrationNo - Name - Sgpa)"
   ]
  },
  {
   "cell_type": "code",
   "execution_count": 441,
   "metadata": {
    "collapsed": true
   },
   "outputs": [],
   "source": [
    "result_store = open('results_5thSem.txt','a')"
   ]
  },
  {
   "cell_type": "code",
   "execution_count": 442,
   "metadata": {
    "collapsed": true
   },
   "outputs": [],
   "source": [
    "regnoStart = 1501202001"
   ]
  },
  {
   "cell_type": "code",
   "execution_count": 443,
   "metadata": {},
   "outputs": [
    {
     "name": "stdout",
     "output_type": "stream",
     "text": [
      "SECOND CLICK DONE\n",
      "\n",
      "1501202001    ABHIPSA SAHOO   8.33\n",
      "\n",
      "SECOND CLICK DONE\n",
      "\n",
      "1501202002    ABHISHEK SABAT   6.33\n",
      "\n",
      "SECOND CLICK DONE\n",
      "\n",
      "1501202003    ACHIN MITRA   2.17\n",
      "\n"
     ]
    }
   ],
   "source": [
    "starting_time = time.time()\n",
    "while regnoStart<1501202004:\n",
    "    driver.get('http://www.bputexam.in/StudentSection/ResultPublished/StudentResult.aspx')\n",
    "    name,cgpa = findGrade(regnoStart)\n",
    "    result_store.write(str(regnoStart) + \"    \" + name + \"   \" + str(cgpa) + \"\\n\" )\n",
    "    print(str(regnoStart) + \"    \" + name + \"   \" + str(cgpa) + \"\\n\" )\n",
    "    regnoStart = regnoStart + 1\n",
    "\n",
    "result_store.close()\n",
    "ending_time = time.time()"
   ]
  },
  {
   "cell_type": "code",
   "execution_count": null,
   "metadata": {
    "collapsed": true
   },
   "outputs": [],
   "source": [
    "driver.close()"
   ]
  },
  {
   "cell_type": "code",
   "execution_count": null,
   "metadata": {
    "collapsed": true
   },
   "outputs": [],
   "source": [
    "print(\"Time taken (in minutes): \"+str((ending_time-starting_time)/60))"
   ]
  },
  {
   "cell_type": "code",
   "execution_count": null,
   "metadata": {
    "collapsed": true
   },
   "outputs": [],
   "source": []
  }
 ],
 "metadata": {
  "kernelspec": {
   "display_name": "Python 3",
   "language": "python",
   "name": "python3"
  },
  "language_info": {
   "codemirror_mode": {
    "name": "ipython",
    "version": 3
   },
   "file_extension": ".py",
   "mimetype": "text/x-python",
   "name": "python",
   "nbconvert_exporter": "python",
   "pygments_lexer": "ipython3",
   "version": "3.6.3"
  }
 },
 "nbformat": 4,
 "nbformat_minor": 2
}
